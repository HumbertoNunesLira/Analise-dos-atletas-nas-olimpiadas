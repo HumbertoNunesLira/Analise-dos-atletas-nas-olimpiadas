{
 "cells": [
  {
   "cell_type": "code",
   "execution_count": 33,
   "id": "7347933e-4400-4e77-8ec3-7b8505f58791",
   "metadata": {},
   "outputs": [],
   "source": [
    "import pandas as pd\n",
    "import seaborn as sns\n",
    "\n",
    "caminho_arquivo_csv = 'tabela_filtrada.csv'\n",
    "tabela_filtrada = pd.read_csv(caminho_arquivo_csv)"
   ]
  },
  {
   "cell_type": "code",
   "execution_count": null,
   "id": "cd3ceac0-1a9f-4707-84dc-033f83bb683f",
   "metadata": {},
   "outputs": [],
   "source": [
    "media_idade = tabela_filtrada['Age'].mean()\n",
    "print(round(media_idade,2))"
   ]
  },
  {
   "cell_type": "code",
   "execution_count": null,
   "id": "c7977938-d9a4-4fb0-93b8-6aae5295e9dc",
   "metadata": {},
   "outputs": [],
   "source": [
    "mediana_idade = tabela_filtrada['Age'].median()\n",
    "print(round(mediana_idade,2))"
   ]
  },
  {
   "cell_type": "code",
   "execution_count": null,
   "id": "d52df18d-8741-4247-9cab-72f2646f236c",
   "metadata": {},
   "outputs": [],
   "source": [
    "moda_idade = tabela_filtrada['Age'].mode()\n",
    "print(moda_idade)"
   ]
  },
  {
   "cell_type": "code",
   "execution_count": null,
   "id": "cfc775f3-2ce6-4a7e-a73e-f855c65a94e3",
   "metadata": {},
   "outputs": [],
   "source": [
    "dispercao_idades = tabela_filtrada['Age'].describe() #desvio padrão\n",
    "print(round(dispercao_idades,2))"
   ]
  },
  {
   "cell_type": "code",
   "execution_count": null,
   "id": "bc4d8890-b9ac-4fd6-bb30-55db14dd86cc",
   "metadata": {},
   "outputs": [],
   "source": [
    "tabela_filtrada[\"Team\"].value_counts() #ranking medalhas"
   ]
  },
  {
   "cell_type": "code",
   "execution_count": null,
   "id": "a820ceaf-1d8a-4b32-a28f-469538ff4467",
   "metadata": {},
   "outputs": [],
   "source": [
    "ouro = tabela_filtrada[tabela_filtrada['Medal'] == 'Gold'] #total de ouro\n",
    "ouro['Team'].value_counts()"
   ]
  },
  {
   "cell_type": "code",
   "execution_count": null,
   "id": "8db9cae2-b2cf-4988-8729-98626b98aacd",
   "metadata": {},
   "outputs": [],
   "source": [
    "ouro_brasil = tabela_filtrada[(tabela_filtrada['Medal'] == 'Gold') & (tabela_filtrada[\"Team\"]== \"Brazil\")] #brasil ouro\n",
    "ouro_brasil.shape[0]"
   ]
  },
  {
   "cell_type": "code",
   "execution_count": null,
   "id": "3287bcd5-1361-409b-8153-7521382e30ae",
   "metadata": {},
   "outputs": [],
   "source": [
    "total_medalhas_brasil = tabela_filtrada[tabela_filtrada[\"Team\"] == \"Brazil\"].shape[0]\n",
    "print(total_medalhas_brasil)"
   ]
  },
  {
   "cell_type": "code",
   "execution_count": null,
   "id": "dfd73656-b9d4-4936-aba0-9af9aeb35b3d",
   "metadata": {},
   "outputs": [],
   "source": [
    "media_brasil = total_medalhas_brasil/32\n",
    "print(round(media_brasil,2))"
   ]
  },
  {
   "cell_type": "code",
   "execution_count": null,
   "id": "b510e3bd-073a-4f49-a5eb-ad4195987575",
   "metadata": {},
   "outputs": [],
   "source": [
    "filtro_brasil = tabela_filtrada[tabela_filtrada['Team']=='Brazil']\n",
    "media_idade_brasil = filtro_brasil['Age'].mean()\n",
    "print(round(media_idade_brasil, 2))"
   ]
  },
  {
   "cell_type": "code",
   "execution_count": null,
   "id": "93d4fe04-cef7-443e-b4f5-9cf1c99934be",
   "metadata": {},
   "outputs": [],
   "source": []
  },
  {
   "cell_type": "code",
   "execution_count": null,
   "id": "c9fea9e0-23d6-4d57-be9a-14a0d6a45211",
   "metadata": {},
   "outputs": [],
   "source": []
  },
  {
   "cell_type": "code",
   "execution_count": null,
   "id": "8d29b800-7392-41f1-ba73-a3c78ed8679e",
   "metadata": {},
   "outputs": [],
   "source": []
  },
  {
   "cell_type": "code",
   "execution_count": null,
   "id": "5e0a951b-6daa-4ff2-b826-9c31bdc76f7d",
   "metadata": {},
   "outputs": [],
   "source": []
  },
  {
   "cell_type": "code",
   "execution_count": null,
   "id": "e4892268-7d3e-4e1d-bcd0-e17de3c52faa",
   "metadata": {},
   "outputs": [],
   "source": []
  },
  {
   "cell_type": "code",
   "execution_count": null,
   "id": "86355139-2de8-47cd-a3ee-85a9e0b69efa",
   "metadata": {},
   "outputs": [],
   "source": []
  },
  {
   "cell_type": "code",
   "execution_count": null,
   "id": "373839e2-7985-4524-a94c-50da580d3423",
   "metadata": {},
   "outputs": [],
   "source": []
  },
  {
   "cell_type": "code",
   "execution_count": null,
   "id": "637611bb-9e2d-4344-8ba6-78fd0892b6c9",
   "metadata": {},
   "outputs": [],
   "source": []
  },
  {
   "cell_type": "code",
   "execution_count": null,
   "id": "0e98786c-4db7-4941-a035-ca6c7624ad73",
   "metadata": {},
   "outputs": [],
   "source": []
  },
  {
   "cell_type": "code",
   "execution_count": null,
   "id": "16136bb3-5b3c-4808-8eaf-c04f558d03a0",
   "metadata": {},
   "outputs": [],
   "source": []
  },
  {
   "cell_type": "code",
   "execution_count": null,
   "id": "c7c28958-fd4d-410e-bfe5-d4ee7e24ab63",
   "metadata": {},
   "outputs": [],
   "source": []
  },
  {
   "cell_type": "code",
   "execution_count": null,
   "id": "c1331555-91ad-4709-94c8-e0fd077c1cba",
   "metadata": {},
   "outputs": [],
   "source": []
  },
  {
   "cell_type": "code",
   "execution_count": null,
   "id": "2565694c-f91a-47de-b8cf-debd1f1fb96b",
   "metadata": {},
   "outputs": [],
   "source": []
  },
  {
   "cell_type": "code",
   "execution_count": null,
   "id": "be8433c0-8bc8-46a3-b765-f0646fb6c87e",
   "metadata": {},
   "outputs": [],
   "source": []
  },
  {
   "cell_type": "code",
   "execution_count": null,
   "id": "233457b3-a2a8-4ce9-a060-18f454bf2895",
   "metadata": {},
   "outputs": [],
   "source": []
  },
  {
   "cell_type": "code",
   "execution_count": null,
   "id": "70a37031-d94b-47da-9194-130261208a6b",
   "metadata": {},
   "outputs": [],
   "source": []
  },
  {
   "cell_type": "code",
   "execution_count": null,
   "id": "66e7e0cb-793b-41b9-a5a0-94dc181295ac",
   "metadata": {},
   "outputs": [],
   "source": [
    "pip install seaborn"
   ]
  },
  {
   "cell_type": "code",
   "execution_count": null,
   "id": "281c666a-0d6d-462e-b5f0-a5313637ee5a",
   "metadata": {},
   "outputs": [],
   "source": [
    "pip install matplotlib"
   ]
  },
  {
   "cell_type": "code",
   "execution_count": 30,
   "id": "3603f056-1b47-48f8-a325-e5553e9ad35f",
   "metadata": {},
   "outputs": [
    {
     "name": "stdout",
     "output_type": "stream",
     "text": [
      "Requirement already satisfied: numpy in c:\\users\\parav\\appdata\\local\\packages\\pythonsoftwarefoundation.python.3.11_qbz5n2kfra8p0\\localcache\\local-packages\\python311\\site-packages (1.26.4)\n",
      "Note: you may need to restart the kernel to use updated packages.\n"
     ]
    }
   ],
   "source": [
    "pip install numpy"
   ]
  },
  {
   "cell_type": "code",
   "execution_count": 31,
   "id": "ec5fbae2-8b6c-4f7f-9ca3-0a986d69c3f1",
   "metadata": {},
   "outputs": [
    {
     "ename": "ModuleNotFoundError",
     "evalue": "No module named 'scipy'",
     "output_type": "error",
     "traceback": [
      "\u001b[1;31m---------------------------------------------------------------------------\u001b[0m",
      "\u001b[1;31mModuleNotFoundError\u001b[0m                       Traceback (most recent call last)",
      "Cell \u001b[1;32mIn[31], line 3\u001b[0m\n\u001b[0;32m      1\u001b[0m \u001b[38;5;28;01mimport\u001b[39;00m \u001b[38;5;21;01mseaborn\u001b[39;00m \u001b[38;5;28;01mas\u001b[39;00m \u001b[38;5;21;01msns\u001b[39;00m\n\u001b[0;32m      2\u001b[0m \u001b[38;5;28;01mimport\u001b[39;00m \u001b[38;5;21;01mmatplotlib\u001b[39;00m\u001b[38;5;21;01m.\u001b[39;00m\u001b[38;5;21;01mpyplot\u001b[39;00m \u001b[38;5;28;01mas\u001b[39;00m \u001b[38;5;21;01mplt\u001b[39;00m\n\u001b[1;32m----> 3\u001b[0m \u001b[38;5;28;01mfrom\u001b[39;00m \u001b[38;5;21;01mscipy\u001b[39;00m \u001b[38;5;28;01mimport\u001b[39;00m stats\n\u001b[0;32m      4\u001b[0m \u001b[38;5;28;01mimport\u001b[39;00m \u001b[38;5;21;01mnumpy\u001b[39;00m \u001b[38;5;28;01mas\u001b[39;00m \u001b[38;5;21;01mnp\u001b[39;00m\n\u001b[0;32m      5\u001b[0m \u001b[38;5;28;01mimport\u001b[39;00m \u001b[38;5;21;01mwarnings\u001b[39;00m\n",
      "\u001b[1;31mModuleNotFoundError\u001b[0m: No module named 'scipy'"
     ]
    }
   ],
   "source": [
    "import seaborn as sns\n",
    "import matplotlib.pyplot as plt\n",
    "from scipy import stats\n",
    "import numpy as np\n",
    "import warnings\n",
    "warnings.filterwarnings('ignore')\n",
    "%matplotlib inline"
   ]
  },
  {
   "cell_type": "code",
   "execution_count": null,
   "id": "348bff20-48af-4965-b0ec-0b3ee8aa0f52",
   "metadata": {},
   "outputs": [],
   "source": [
    "import pandas as pd"
   ]
  },
  {
   "cell_type": "code",
   "execution_count": null,
   "id": "56222c63-2471-453f-9dff-8324de28bff9",
   "metadata": {},
   "outputs": [],
   "source": [
    "caminho_arquivo_regions = \"C:/PROJETO/archive/all_regions.csv\""
   ]
  },
  {
   "cell_type": "code",
   "execution_count": null,
   "id": "787053ff-8573-4465-8652-8edeb8247ffb",
   "metadata": {},
   "outputs": [],
   "source": [
    "caminho_arquivo_athlete_games = \"C:/PROJETO/archive/all_athlete_games.csv\""
   ]
  },
  {
   "cell_type": "code",
   "execution_count": null,
   "id": "5e9898a3-9e0f-4278-8599-796d96c79081",
   "metadata": {},
   "outputs": [],
   "source": [
    "df_regions = pd.read_csv(caminho_arquivo_regions)"
   ]
  },
  {
   "cell_type": "code",
   "execution_count": null,
   "id": "5efce1ce-984f-41fe-9b04-4e00a59a022b",
   "metadata": {},
   "outputs": [],
   "source": [
    "df_athlete_games = pd.read_csv(caminho_arquivo_athlete_games)"
   ]
  },
  {
   "cell_type": "code",
   "execution_count": null,
   "id": "2e9dcdfb-a264-46ee-9eb0-e8818e9aab09",
   "metadata": {},
   "outputs": [],
   "source": [
    "print(\"Primeiras linhas de all_regions.csv:\")\n",
    "print(df_regions.head())"
   ]
  },
  {
   "cell_type": "code",
   "execution_count": null,
   "id": "4d236f51-2b59-4a9b-a8d3-c2d8084afcdb",
   "metadata": {},
   "outputs": [],
   "source": [
    "print(df_athlete_games.head())"
   ]
  },
  {
   "cell_type": "code",
   "execution_count": null,
   "id": "abd66bef-2af8-4139-bf11-30c90d6431ed",
   "metadata": {},
   "outputs": [],
   "source": [
    "total_medalhas = df_athlete_games.groupby('NOC')['Medal'].value_counts().unstack().fillna(0)\n",
    "total_medalhas['Total'] = total_medalhas.sum(axis=1)"
   ]
  },
  {
   "cell_type": "code",
   "execution_count": null,
   "id": "ad63372d-1d9c-4a44-8bc8-d4704e50379d",
   "metadata": {},
   "outputs": [],
   "source": [
    "total_medalhas = total_medalhas[total_medalhas['Total'] > 0]"
   ]
  },
  {
   "cell_type": "code",
   "execution_count": null,
   "id": "3c78834e-299a-4783-867b-f74fd03e236e",
   "metadata": {},
   "outputs": [],
   "source": [
    "ranking = total_medalhas.sort_values(by='Total', ascending=False)"
   ]
  },
  {
   "cell_type": "code",
   "execution_count": null,
   "id": "b34d481c-6371-4707-a499-1dfb8e1cb3eb",
   "metadata": {},
   "outputs": [],
   "source": [
    "top_32 = ranking.head(32)"
   ]
  },
  {
   "cell_type": "code",
   "execution_count": null,
   "id": "8d2a5afc-be68-4c3d-b178-81f7e46699be",
   "metadata": {},
   "outputs": [],
   "source": [
    "sns.set_palette(\"pastel\")"
   ]
  },
  {
   "cell_type": "code",
   "execution_count": null,
   "id": "f67b6960-79a1-4b51-a35a-b9e148456602",
   "metadata": {},
   "outputs": [],
   "source": [
    "plt.figure(figsize=(16, 12))\n",
    "sns.barplot(x=top_32.index, y='Total', data=top_32)\n",
    "plt.ylabel('Total de Medalhas')\n",
    "plt.xlabel('País')\n",
    "plt.title('Top 50 Países mais Vencedores por Medalhas')\n",
    "plt.show()"
   ]
  },
  {
   "cell_type": "code",
   "execution_count": null,
   "id": "6b618ad4-264b-41e3-a377-863f469d0563",
   "metadata": {},
   "outputs": [],
   "source": [
    "top_10 = ranking.head(10)"
   ]
  },
  {
   "cell_type": "code",
   "execution_count": null,
   "id": "2ec8d512-0717-4c2b-8ad2-888435591dba",
   "metadata": {},
   "outputs": [],
   "source": [
    "medalhas = {'Gold': 'Ouro', 'Silver': 'Prata', 'Bronze': 'Bronze'}"
   ]
  },
  {
   "cell_type": "code",
   "execution_count": null,
   "id": "ef1506be-20f5-4de4-91dc-ac66545bcf73",
   "metadata": {},
   "outputs": [],
   "source": [
    "total_medalhas.columns = [medalhas.get(col, col) for col in total_medalhas.columns]"
   ]
  },
  {
   "cell_type": "code",
   "execution_count": null,
   "id": "3f3ee102-e2ad-409d-a304-5923e8ed1462",
   "metadata": {},
   "outputs": [],
   "source": [
    "plt.figure(figsize=(12, 8))\n",
    "for country in top_10.index:\n",
    "    plt.plot(top_10.columns, top_10.loc[country], label=country)\n",
    "\n",
    "plt.xlabel('Medals')\n",
    "plt.ylabel('Total Medals')\n",
    "plt.title('Total Medals of the Top 10 Medal-Winning Countries in History')\n",
    "plt.legend(loc='upper left', bbox_to_anchor=(1, 1))\n",
    "plt.grid(True)\n",
    "plt.show()\n"
   ]
  },
  {
   "cell_type": "code",
   "execution_count": 34,
   "id": "b37f6d13-b880-480d-8e52-ba7e2221dcd5",
   "metadata": {},
   "outputs": [
    {
     "data": {
      "text/plain": [
       "<Axes: xlabel='Age'>"
      ]
     },
     "execution_count": 34,
     "metadata": {},
     "output_type": "execute_result"
    },
    {
     "data": {
      "image/png": "[encoded data removed]",
      "text/plain": [
       "<Figure size 640x480 with 1 Axes>"
      ]
     },
     "metadata": {},
     "output_type": "display_data"
    }
   ],
   "source": [
    "sns.boxplot(data = tabela_filtrada, x = \"Age\")"
   ]
  },
  {
   "cell_type": "code",
   "execution_count": null,
   "id": "29ccb69a-a90e-4e01-92d6-494fd1533059",
   "metadata": {},
   "outputs": [],
   "source": []
  }
 ],
 "metadata": {
  "kernelspec": {
   "display_name": "Python 3 (ipykernel)",
   "language": "python",
   "name": "python3"
  },
  "language_info": {
   "codemirror_mode": {
    "name": "ipython",
    "version": 3
   },
   "file_extension": ".py",
   "mimetype": "text/x-python",
   "name": "python",
   "nbconvert_exporter": "python",
   "pygments_lexer": "ipython3",
   "version": "3.11.8"
  }
 },
 "nbformat": 4,
 "nbformat_minor": 5
}
