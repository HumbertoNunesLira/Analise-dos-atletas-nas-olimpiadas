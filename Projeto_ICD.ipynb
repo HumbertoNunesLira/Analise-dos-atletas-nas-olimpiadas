{
 "cells": [
  {
   "cell_type": "code",
   "execution_count": 229,
   "id": "d7c0589c-dcdd-4b5d-94cd-8ebc7455acc4",
   "metadata": {},
   "outputs": [
    {
     "name": "stdout",
     "output_type": "stream",
     "text": [
      "Requirement already satisfied: numpy in c:\\users\\nunes\\anaconda3\\lib\\site-packages (1.24.3)\n",
      "Note: you may need to restart the kernel to use updated packages.\n"
     ]
    }
   ],
   "source": [
    "pip install numpy"
   ]
  },
  {
   "cell_type": "code",
   "execution_count": 230,
   "id": "1f20ad2f-92c7-4854-9578-0fdfec60ed75",
   "metadata": {},
   "outputs": [
    {
     "name": "stdout",
     "output_type": "stream",
     "text": [
      "Requirement already satisfied: seaborn in c:\\users\\nunes\\anaconda3\\lib\\site-packages (0.12.2)\n",
      "Requirement already satisfied: numpy!=1.24.0,>=1.17 in c:\\users\\nunes\\anaconda3\\lib\\site-packages (from seaborn) (1.24.3)\n",
      "Requirement already satisfied: pandas>=0.25 in c:\\users\\nunes\\anaconda3\\lib\\site-packages (from seaborn) (2.0.3)\n",
      "Requirement already satisfied: matplotlib!=3.6.1,>=3.1 in c:\\users\\nunes\\anaconda3\\lib\\site-packages (from seaborn) (3.7.2)\n",
      "Requirement already satisfied: contourpy>=1.0.1 in c:\\users\\nunes\\anaconda3\\lib\\site-packages (from matplotlib!=3.6.1,>=3.1->seaborn) (1.0.5)\n",
      "Requirement already satisfied: cycler>=0.10 in c:\\users\\nunes\\anaconda3\\lib\\site-packages (from matplotlib!=3.6.1,>=3.1->seaborn) (0.11.0)\n",
      "Requirement already satisfied: fonttools>=4.22.0 in c:\\users\\nunes\\anaconda3\\lib\\site-packages (from matplotlib!=3.6.1,>=3.1->seaborn) (4.25.0)\n",
      "Requirement already satisfied: kiwisolver>=1.0.1 in c:\\users\\nunes\\anaconda3\\lib\\site-packages (from matplotlib!=3.6.1,>=3.1->seaborn) (1.4.4)\n",
      "Requirement already satisfied: packaging>=20.0 in c:\\users\\nunes\\appdata\\roaming\\python\\python311\\site-packages (from matplotlib!=3.6.1,>=3.1->seaborn) (23.2)\n",
      "Requirement already satisfied: pillow>=6.2.0 in c:\\users\\nunes\\anaconda3\\lib\\site-packages (from matplotlib!=3.6.1,>=3.1->seaborn) (10.2.0)\n",
      "Requirement already satisfied: pyparsing<3.1,>=2.3.1 in c:\\users\\nunes\\anaconda3\\lib\\site-packages (from matplotlib!=3.6.1,>=3.1->seaborn) (3.0.9)\n",
      "Requirement already satisfied: python-dateutil>=2.7 in c:\\users\\nunes\\appdata\\roaming\\python\\python311\\site-packages (from matplotlib!=3.6.1,>=3.1->seaborn) (2.8.2)\n",
      "Requirement already satisfied: pytz>=2020.1 in c:\\users\\nunes\\anaconda3\\lib\\site-packages (from pandas>=0.25->seaborn) (2023.3.post1)\n",
      "Requirement already satisfied: tzdata>=2022.1 in c:\\users\\nunes\\anaconda3\\lib\\site-packages (from pandas>=0.25->seaborn) (2023.3)\n",
      "Requirement already satisfied: six>=1.5 in c:\\users\\nunes\\appdata\\roaming\\python\\python311\\site-packages (from python-dateutil>=2.7->matplotlib!=3.6.1,>=3.1->seaborn) (1.16.0)\n",
      "Note: you may need to restart the kernel to use updated packages.\n"
     ]
    }
   ],
   "source": [
    "pip install seaborn"
   ]
  },
  {
   "cell_type": "code",
   "execution_count": 231,
   "id": "a37e339c-c416-4d1b-a959-1c834563026e",
   "metadata": {},
   "outputs": [
    {
     "name": "stdout",
     "output_type": "stream",
     "text": [
      "Requirement already satisfied: matplotlib in c:\\users\\nunes\\anaconda3\\lib\\site-packages (3.7.2)\n",
      "Requirement already satisfied: contourpy>=1.0.1 in c:\\users\\nunes\\anaconda3\\lib\\site-packages (from matplotlib) (1.0.5)\n",
      "Requirement already satisfied: cycler>=0.10 in c:\\users\\nunes\\anaconda3\\lib\\site-packages (from matplotlib) (0.11.0)\n",
      "Requirement already satisfied: fonttools>=4.22.0 in c:\\users\\nunes\\anaconda3\\lib\\site-packages (from matplotlib) (4.25.0)\n",
      "Requirement already satisfied: kiwisolver>=1.0.1 in c:\\users\\nunes\\anaconda3\\lib\\site-packages (from matplotlib) (1.4.4)\n",
      "Requirement already satisfied: numpy>=1.20 in c:\\users\\nunes\\anaconda3\\lib\\site-packages (from matplotlib) (1.24.3)\n",
      "Requirement already satisfied: packaging>=20.0 in c:\\users\\nunes\\appdata\\roaming\\python\\python311\\site-packages (from matplotlib) (23.2)\n",
      "Requirement already satisfied: pillow>=6.2.0 in c:\\users\\nunes\\anaconda3\\lib\\site-packages (from matplotlib) (10.2.0)\n",
      "Requirement already satisfied: pyparsing<3.1,>=2.3.1 in c:\\users\\nunes\\anaconda3\\lib\\site-packages (from matplotlib) (3.0.9)\n",
      "Requirement already satisfied: python-dateutil>=2.7 in c:\\users\\nunes\\appdata\\roaming\\python\\python311\\site-packages (from matplotlib) (2.8.2)\n",
      "Requirement already satisfied: six>=1.5 in c:\\users\\nunes\\appdata\\roaming\\python\\python311\\site-packages (from python-dateutil>=2.7->matplotlib) (1.16.0)\n",
      "Note: you may need to restart the kernel to use updated packages.\n"
     ]
    }
   ],
   "source": [
    "pip install matplotlib"
   ]
  },
  {
   "cell_type": "code",
   "execution_count": 232,
   "id": "7347933e-4400-4e77-8ec3-7b8505f58791",
   "metadata": {},
   "outputs": [],
   "source": [
    "import pandas as pd\n",
    "import seaborn as sns\n",
    "import seaborn as sns\n",
    "import matplotlib.pyplot as plt\n",
    "from scipy import stats\n",
    "import numpy as np\n",
    "import warnings\n",
    "warnings.filterwarnings('ignore')\n",
    "%matplotlib inline\n",
    "\n"
   ]
  },
  {
   "cell_type": "code",
   "execution_count": 233,
   "id": "cd3ceac0-1a9f-4707-84dc-033f83bb683f",
   "metadata": {},
   "outputs": [
    {
     "name": "stdout",
     "output_type": "stream",
     "text": [
      "25.99\n"
     ]
    }
   ],
   "source": [
    "caminho_arquivo_csv = 'tabela_filtrada.csv'\n",
    "tabela_filtrada = pd.read_csv(caminho_arquivo_csv)\n",
    "\n",
    "\n",
    "media_idade = tabela_filtrada['Age'].mean()\n",
    "print(round(media_idade,2))"
   ]
  },
  {
   "cell_type": "code",
   "execution_count": 234,
   "id": "d6441707-0e14-43bd-8cca-ae32a3943752",
   "metadata": {},
   "outputs": [
    {
     "data": {
      "text/html": [
       "<div>\n",
       "<style scoped>\n",
       "    .dataframe tbody tr th:only-of-type {\n",
       "        vertical-align: middle;\n",
       "    }\n",
       "\n",
       "    .dataframe tbody tr th {\n",
       "        vertical-align: top;\n",
       "    }\n",
       "\n",
       "    .dataframe thead th {\n",
       "        text-align: right;\n",
       "    }\n",
       "</style>\n",
       "<table border=\"1\" class=\"dataframe\">\n",
       "  <thead>\n",
       "    <tr style=\"text-align: right;\">\n",
       "      <th></th>\n",
       "      <th>Unnamed: 0</th>\n",
       "      <th>Entry ID</th>\n",
       "      <th>Name</th>\n",
       "      <th>Gender</th>\n",
       "      <th>Age</th>\n",
       "      <th>Team</th>\n",
       "      <th>NOC</th>\n",
       "      <th>Year</th>\n",
       "      <th>Season</th>\n",
       "      <th>City</th>\n",
       "      <th>Sport</th>\n",
       "      <th>Event</th>\n",
       "      <th>Medal</th>\n",
       "    </tr>\n",
       "  </thead>\n",
       "  <tbody>\n",
       "    <tr>\n",
       "      <th>0</th>\n",
       "      <td>3</td>\n",
       "      <td>3</td>\n",
       "      <td>Edgar Lindenau Aabye</td>\n",
       "      <td>Male</td>\n",
       "      <td>34.0</td>\n",
       "      <td>Denmark/Sweden</td>\n",
       "      <td>DEN</td>\n",
       "      <td>1900</td>\n",
       "      <td>Summer</td>\n",
       "      <td>Paris</td>\n",
       "      <td>Tug-Of-War</td>\n",
       "      <td>Tug-Of-War Men's Tug-Of-War</td>\n",
       "      <td>Gold</td>\n",
       "    </tr>\n",
       "    <tr>\n",
       "      <th>1</th>\n",
       "      <td>12</td>\n",
       "      <td>37</td>\n",
       "      <td>Arvo Ossian Aaltonen</td>\n",
       "      <td>Male</td>\n",
       "      <td>30.0</td>\n",
       "      <td>Finland</td>\n",
       "      <td>FIN</td>\n",
       "      <td>1920</td>\n",
       "      <td>Summer</td>\n",
       "      <td>Antwerpen</td>\n",
       "      <td>Swimming</td>\n",
       "      <td>Swimming Men's 200 metres Breaststroke</td>\n",
       "      <td>Bronze</td>\n",
       "    </tr>\n",
       "    <tr>\n",
       "      <th>2</th>\n",
       "      <td>13</td>\n",
       "      <td>38</td>\n",
       "      <td>Arvo Ossian Aaltonen</td>\n",
       "      <td>Male</td>\n",
       "      <td>30.0</td>\n",
       "      <td>Finland</td>\n",
       "      <td>FIN</td>\n",
       "      <td>1920</td>\n",
       "      <td>Summer</td>\n",
       "      <td>Antwerpen</td>\n",
       "      <td>Swimming</td>\n",
       "      <td>Swimming Men's 400 metres Breaststroke</td>\n",
       "      <td>Bronze</td>\n",
       "    </tr>\n",
       "    <tr>\n",
       "      <th>3</th>\n",
       "      <td>15</td>\n",
       "      <td>41</td>\n",
       "      <td>Paavo Johannes Aaltonen</td>\n",
       "      <td>Male</td>\n",
       "      <td>28.0</td>\n",
       "      <td>Finland</td>\n",
       "      <td>FIN</td>\n",
       "      <td>1948</td>\n",
       "      <td>Summer</td>\n",
       "      <td>London</td>\n",
       "      <td>Gymnastics</td>\n",
       "      <td>Gymnastics Men's Individual All-Around</td>\n",
       "      <td>Bronze</td>\n",
       "    </tr>\n",
       "    <tr>\n",
       "      <th>4</th>\n",
       "      <td>16</td>\n",
       "      <td>42</td>\n",
       "      <td>Paavo Johannes Aaltonen</td>\n",
       "      <td>Male</td>\n",
       "      <td>28.0</td>\n",
       "      <td>Finland</td>\n",
       "      <td>FIN</td>\n",
       "      <td>1948</td>\n",
       "      <td>Summer</td>\n",
       "      <td>London</td>\n",
       "      <td>Gymnastics</td>\n",
       "      <td>Gymnastics Men's Team All-Around</td>\n",
       "      <td>Gold</td>\n",
       "    </tr>\n",
       "    <tr>\n",
       "      <th>...</th>\n",
       "      <td>...</td>\n",
       "      <td>...</td>\n",
       "      <td>...</td>\n",
       "      <td>...</td>\n",
       "      <td>...</td>\n",
       "      <td>...</td>\n",
       "      <td>...</td>\n",
       "      <td>...</td>\n",
       "      <td>...</td>\n",
       "      <td>...</td>\n",
       "      <td>...</td>\n",
       "      <td>...</td>\n",
       "      <td>...</td>\n",
       "    </tr>\n",
       "    <tr>\n",
       "      <th>41495</th>\n",
       "      <td>286078</td>\n",
       "      <td>270641</td>\n",
       "      <td>Sergey Mikhaylovich Zubov</td>\n",
       "      <td>Male</td>\n",
       "      <td>21.0</td>\n",
       "      <td>Unified Team</td>\n",
       "      <td>EUN</td>\n",
       "      <td>1992</td>\n",
       "      <td>Winter</td>\n",
       "      <td>Albertville</td>\n",
       "      <td>Ice Hockey</td>\n",
       "      <td>Ice Hockey Men's Ice Hockey</td>\n",
       "      <td>Gold</td>\n",
       "    </tr>\n",
       "    <tr>\n",
       "      <th>41496</th>\n",
       "      <td>286122</td>\n",
       "      <td>270827</td>\n",
       "      <td>Matja Zupan</td>\n",
       "      <td>Male</td>\n",
       "      <td>19.0</td>\n",
       "      <td>Yugoslavia</td>\n",
       "      <td>YUG</td>\n",
       "      <td>1988</td>\n",
       "      <td>Winter</td>\n",
       "      <td>Calgary</td>\n",
       "      <td>Ski Jumping</td>\n",
       "      <td>Ski Jumping Men's Large Hill, Team</td>\n",
       "      <td>Silver</td>\n",
       "    </tr>\n",
       "    <tr>\n",
       "      <th>41497</th>\n",
       "      <td>286154</td>\n",
       "      <td>270876</td>\n",
       "      <td>Pirmin Zurbriggen</td>\n",
       "      <td>Male</td>\n",
       "      <td>25.0</td>\n",
       "      <td>Switzerland</td>\n",
       "      <td>SUI</td>\n",
       "      <td>1988</td>\n",
       "      <td>Winter</td>\n",
       "      <td>Calgary</td>\n",
       "      <td>Alpine Skiing</td>\n",
       "      <td>Alpine Skiing Men's Downhill</td>\n",
       "      <td>Gold</td>\n",
       "    </tr>\n",
       "    <tr>\n",
       "      <th>41498</th>\n",
       "      <td>286156</td>\n",
       "      <td>270878</td>\n",
       "      <td>Pirmin Zurbriggen</td>\n",
       "      <td>Male</td>\n",
       "      <td>25.0</td>\n",
       "      <td>Switzerland</td>\n",
       "      <td>SUI</td>\n",
       "      <td>1988</td>\n",
       "      <td>Winter</td>\n",
       "      <td>Calgary</td>\n",
       "      <td>Alpine Skiing</td>\n",
       "      <td>Alpine Skiing Men's Giant Slalom</td>\n",
       "      <td>Bronze</td>\n",
       "    </tr>\n",
       "    <tr>\n",
       "      <th>41499</th>\n",
       "      <td>286164</td>\n",
       "      <td>270886</td>\n",
       "      <td>Silvan Zurbriggen</td>\n",
       "      <td>Male</td>\n",
       "      <td>28.0</td>\n",
       "      <td>Switzerland</td>\n",
       "      <td>SUI</td>\n",
       "      <td>2010</td>\n",
       "      <td>Winter</td>\n",
       "      <td>Vancouver</td>\n",
       "      <td>Alpine Skiing</td>\n",
       "      <td>Alpine Skiing Men's Combined</td>\n",
       "      <td>Bronze</td>\n",
       "    </tr>\n",
       "  </tbody>\n",
       "</table>\n",
       "<p>41500 rows × 13 columns</p>\n",
       "</div>"
      ],
      "text/plain": [
       "       Unnamed: 0  Entry ID                       Name Gender   Age  \\\n",
       "0               3         3       Edgar Lindenau Aabye   Male  34.0   \n",
       "1              12        37       Arvo Ossian Aaltonen   Male  30.0   \n",
       "2              13        38       Arvo Ossian Aaltonen   Male  30.0   \n",
       "3              15        41    Paavo Johannes Aaltonen   Male  28.0   \n",
       "4              16        42    Paavo Johannes Aaltonen   Male  28.0   \n",
       "...           ...       ...                        ...    ...   ...   \n",
       "41495      286078    270641  Sergey Mikhaylovich Zubov   Male  21.0   \n",
       "41496      286122    270827                Matja Zupan   Male  19.0   \n",
       "41497      286154    270876          Pirmin Zurbriggen   Male  25.0   \n",
       "41498      286156    270878          Pirmin Zurbriggen   Male  25.0   \n",
       "41499      286164    270886          Silvan Zurbriggen   Male  28.0   \n",
       "\n",
       "                 Team  NOC  Year  Season         City          Sport  \\\n",
       "0      Denmark/Sweden  DEN  1900  Summer        Paris     Tug-Of-War   \n",
       "1             Finland  FIN  1920  Summer    Antwerpen       Swimming   \n",
       "2             Finland  FIN  1920  Summer    Antwerpen       Swimming   \n",
       "3             Finland  FIN  1948  Summer       London     Gymnastics   \n",
       "4             Finland  FIN  1948  Summer       London     Gymnastics   \n",
       "...               ...  ...   ...     ...          ...            ...   \n",
       "41495    Unified Team  EUN  1992  Winter  Albertville     Ice Hockey   \n",
       "41496      Yugoslavia  YUG  1988  Winter      Calgary    Ski Jumping   \n",
       "41497     Switzerland  SUI  1988  Winter      Calgary  Alpine Skiing   \n",
       "41498     Switzerland  SUI  1988  Winter      Calgary  Alpine Skiing   \n",
       "41499     Switzerland  SUI  2010  Winter    Vancouver  Alpine Skiing   \n",
       "\n",
       "                                        Event   Medal  \n",
       "0                 Tug-Of-War Men's Tug-Of-War    Gold  \n",
       "1      Swimming Men's 200 metres Breaststroke  Bronze  \n",
       "2      Swimming Men's 400 metres Breaststroke  Bronze  \n",
       "3      Gymnastics Men's Individual All-Around  Bronze  \n",
       "4            Gymnastics Men's Team All-Around    Gold  \n",
       "...                                       ...     ...  \n",
       "41495             Ice Hockey Men's Ice Hockey    Gold  \n",
       "41496      Ski Jumping Men's Large Hill, Team  Silver  \n",
       "41497            Alpine Skiing Men's Downhill    Gold  \n",
       "41498        Alpine Skiing Men's Giant Slalom  Bronze  \n",
       "41499            Alpine Skiing Men's Combined  Bronze  \n",
       "\n",
       "[41500 rows x 13 columns]"
      ]
     },
     "execution_count": 234,
     "metadata": {},
     "output_type": "execute_result"
    }
   ],
   "source": [
    "tabela_filtrada"
   ]
  },
  {
   "cell_type": "code",
   "execution_count": 235,
   "id": "c7977938-d9a4-4fb0-93b8-6aae5295e9dc",
   "metadata": {},
   "outputs": [
    {
     "name": "stdout",
     "output_type": "stream",
     "text": [
      "25.0\n"
     ]
    }
   ],
   "source": [
    "mediana_idade = tabela_filtrada['Age'].median()\n",
    "print(round(mediana_idade,2))"
   ]
  },
  {
   "cell_type": "code",
   "execution_count": 236,
   "id": "d52df18d-8741-4247-9cab-72f2646f236c",
   "metadata": {},
   "outputs": [
    {
     "name": "stdout",
     "output_type": "stream",
     "text": [
      "0    23.0\n",
      "Name: Age, dtype: float64\n"
     ]
    }
   ],
   "source": [
    "moda_idade = tabela_filtrada['Age'].mode()\n",
    "print(moda_idade)"
   ]
  },
  {
   "cell_type": "code",
   "execution_count": 237,
   "id": "cfc775f3-2ce6-4a7e-a73e-f855c65a94e3",
   "metadata": {},
   "outputs": [
    {
     "name": "stdout",
     "output_type": "stream",
     "text": [
      "count    41500.00\n",
      "mean        25.99\n",
      "std          5.88\n",
      "min         10.00\n",
      "25%         22.00\n",
      "50%         25.00\n",
      "75%         29.00\n",
      "max         73.00\n",
      "Name: Age, dtype: float64\n"
     ]
    }
   ],
   "source": [
    "dispercao_idades = tabela_filtrada['Age'].describe() #desvio padrão\n",
    "print(round(dispercao_idades,2))"
   ]
  },
  {
   "cell_type": "code",
   "execution_count": 238,
   "id": "bc4d8890-b9ac-4fd6-bb30-55db14dd86cc",
   "metadata": {},
   "outputs": [
    {
     "data": {
      "text/plain": [
       "Team\n",
       "United States    5503\n",
       "Soviet Union     2451\n",
       "Germany          2051\n",
       "Great Britain    1770\n",
       "France           1661\n",
       "                 ... \n",
       "Barbados            1\n",
       "Scamasaxe-3         1\n",
       "Scamasaxe-2         1\n",
       "Brynhild-2          1\n",
       "Guatemala           1\n",
       "Name: count, Length: 489, dtype: int64"
      ]
     },
     "execution_count": 238,
     "metadata": {},
     "output_type": "execute_result"
    }
   ],
   "source": [
    "tabela_filtrada[\"Team\"].value_counts() #ranking medalhas"
   ]
  },
  {
   "cell_type": "code",
   "execution_count": 239,
   "id": "a820ceaf-1d8a-4b32-a28f-469538ff4467",
   "metadata": {},
   "outputs": [
    {
     "data": {
      "text/plain": [
       "Team\n",
       "United States    2585\n",
       "Soviet Union     1058\n",
       "Germany           697\n",
       "Italy             556\n",
       "Great Britain     556\n",
       "                 ... \n",
       "Costa Rica          1\n",
       "Panama              1\n",
       "Singapore           1\n",
       "Syria               1\n",
       "Tajikistan          1\n",
       "Name: count, Length: 240, dtype: int64"
      ]
     },
     "execution_count": 239,
     "metadata": {},
     "output_type": "execute_result"
    }
   ],
   "source": [
    "ouro = tabela_filtrada[tabela_filtrada['Medal'] == 'Gold'] #total de ouro\n",
    "ouro['Team'].value_counts()"
   ]
  },
  {
   "cell_type": "code",
   "execution_count": 240,
   "id": "8db9cae2-b2cf-4988-8729-98626b98aacd",
   "metadata": {},
   "outputs": [
    {
     "data": {
      "text/plain": [
       "132"
      ]
     },
     "execution_count": 240,
     "metadata": {},
     "output_type": "execute_result"
    }
   ],
   "source": [
    "ouro_brasil = tabela_filtrada[(tabela_filtrada['Medal'] == 'Gold') & (tabela_filtrada[\"Team\"]== \"Brazil\")] #brasil ouro\n",
    "ouro_brasil.shape[0]"
   ]
  },
  {
   "cell_type": "code",
   "execution_count": 241,
   "id": "3287bcd5-1361-409b-8153-7521382e30ae",
   "metadata": {},
   "outputs": [
    {
     "name": "stdout",
     "output_type": "stream",
     "text": [
      "503\n"
     ]
    }
   ],
   "source": [
    "total_medalhas_brasil = tabela_filtrada[tabela_filtrada[\"Team\"] == \"Brazil\"].shape[0]\n",
    "print(total_medalhas_brasil)"
   ]
  },
  {
   "cell_type": "code",
   "execution_count": 242,
   "id": "dfd73656-b9d4-4936-aba0-9af9aeb35b3d",
   "metadata": {},
   "outputs": [
    {
     "name": "stdout",
     "output_type": "stream",
     "text": [
      "15.72\n"
     ]
    }
   ],
   "source": [
    "media_brasil = total_medalhas_brasil/32\n",
    "print(round(media_brasil,2))"
   ]
  },
  {
   "cell_type": "code",
   "execution_count": 243,
   "id": "b510e3bd-073a-4f49-a5eb-ad4195987575",
   "metadata": {},
   "outputs": [
    {
     "name": "stdout",
     "output_type": "stream",
     "text": [
      "25.66\n"
     ]
    }
   ],
   "source": [
    "filtro_brasil = tabela_filtrada[tabela_filtrada['Team']=='Brazil']\n",
    "media_idade_brasil = filtro_brasil['Age'].mean()\n",
    "print(round(media_idade_brasil, 2))"
   ]
  },
  {
   "cell_type": "code",
   "execution_count": 244,
   "id": "93d4fe04-cef7-443e-b4f5-9cf1c99934be",
   "metadata": {},
   "outputs": [
    {
     "data": {
      "text/plain": [
       "<Axes: xlabel='Age'>"
      ]
     },
     "execution_count": 244,
     "metadata": {},
     "output_type": "execute_result"
    },
    {
     "data": {
      "image/png": "[encoded data removed]",
      "text/plain": [
       "<Figure size 640x480 with 1 Axes>"
      ]
     },
     "metadata": {},
     "output_type": "display_data"
    }
   ],
   "source": [
    "sns.boxplot(data = tabela_filtrada, x = \"Age\")"
   ]
  },
  {
   "cell_type": "code",
   "execution_count": 245,
   "id": "56222c63-2471-453f-9dff-8324de28bff9",
   "metadata": {},
   "outputs": [],
   "source": [
    "caminho_arquivo_regions = \"all_regions.csv\""
   ]
  },
  {
   "cell_type": "code",
   "execution_count": 246,
   "id": "787053ff-8573-4465-8652-8edeb8247ffb",
   "metadata": {},
   "outputs": [],
   "source": [
    "caminho_arquivo_athlete_games = \"tabela_filtrada.csv\""
   ]
  },
  {
   "cell_type": "code",
   "execution_count": 247,
   "id": "5e9898a3-9e0f-4278-8599-796d96c79081",
   "metadata": {},
   "outputs": [],
   "source": [
    "df_regions = pd.read_csv(caminho_arquivo_regions)"
   ]
  },
  {
   "cell_type": "code",
   "execution_count": 248,
   "id": "5efce1ce-984f-41fe-9b04-4e00a59a022b",
   "metadata": {},
   "outputs": [],
   "source": [
    "df_athlete_games = pd.read_csv(caminho_arquivo_athlete_games)"
   ]
  },
  {
   "cell_type": "code",
   "execution_count": 249,
   "id": "abd66bef-2af8-4139-bf11-30c90d6431ed",
   "metadata": {},
   "outputs": [],
   "source": [
    "total_medalhas = df_athlete_games.groupby('NOC')['Medal'].value_counts().unstack().fillna(0)\n",
    "total_medalhas['Total'] = total_medalhas.sum(axis=1)"
   ]
  },
  {
   "cell_type": "code",
   "execution_count": 250,
   "id": "ad63372d-1d9c-4a44-8bc8-d4704e50379d",
   "metadata": {},
   "outputs": [],
   "source": [
    "total_medalhas = total_medalhas[total_medalhas['Total'] > 0]"
   ]
  },
  {
   "cell_type": "code",
   "execution_count": 251,
   "id": "3c78834e-299a-4783-867b-f74fd03e236e",
   "metadata": {},
   "outputs": [],
   "source": [
    "ranking = total_medalhas.sort_values(by='Total', ascending=False)"
   ]
  },
  {
   "cell_type": "code",
   "execution_count": 252,
   "id": "b34d481c-6371-4707-a499-1dfb8e1cb3eb",
   "metadata": {},
   "outputs": [],
   "source": [
    "top_32 = ranking.head(32)"
   ]
  },
  {
   "cell_type": "code",
   "execution_count": 253,
   "id": "8d2a5afc-be68-4c3d-b178-81f7e46699be",
   "metadata": {},
   "outputs": [],
   "source": [
    "sns.set_palette(\"pastel\")"
   ]
  },
  {
   "cell_type": "code",
   "execution_count": 254,
   "id": "f67b6960-79a1-4b51-a35a-b9e148456602",
   "metadata": {},
   "outputs": [
    {
     "data": {
      "image/png": "[encoded data removed]",
      "text/plain": [
       "<Figure size 1600x1200 with 1 Axes>"
      ]
     },
     "metadata": {},
     "output_type": "display_data"
    }
   ],
   "source": [
    "plt.figure(figsize=(16, 12))\n",
    "sns.barplot(x=top_32.index, y='Total', data=top_32)\n",
    "plt.ylabel('Total de Medalhas')\n",
    "plt.xlabel('País')\n",
    "plt.title('Top 50 Países mais Vencedores por Medalhas')\n",
    "plt.show()"
   ]
  },
  {
   "cell_type": "code",
   "execution_count": 255,
   "id": "f27e3fd6-b088-4612-80d0-6081cdf57b5f",
   "metadata": {},
   "outputs": [],
   "source": [
    "mapeamento_medalhas = {'Nan': 0, 'Bronze': 1, 'silver': 2, 'Ouro': 3}"
   ]
  },
  {
   "cell_type": "code",
   "execution_count": 276,
   "id": "083979e8-a34a-485d-8032-35ab6063cc9c",
   "metadata": {},
   "outputs": [],
   "source": [
    "caminho_arquivo_all = 'all_athlete_games.csv'       \n",
    "df_todos_atletas = pd.read_csv(caminho_arquivo_all)\n"
   ]
  },
  {
   "cell_type": "code",
   "execution_count": 277,
   "id": "1044e028-6855-4c45-8bd8-16268d5756d1",
   "metadata": {},
   "outputs": [],
   "source": [
    "mapeamento_medalhas = {'Nenhuma': 1, 'Bronze': 2, 'Silver': 3, 'Gold': 4}\n",
    "df_todos_atletas['Medalhas_numericas'] = np.where(df_todos_atletas['Medal'].notnull(), 1, 0) \n",
    "df_todos_atletas['Medalhas_numericas'] = df_todos_atletas['Medal'].map(mapeamento_medalhas)\n"
   ]
  },
  {
   "cell_type": "code",
   "execution_count": 278,
   "id": "0403e029-ef6a-4bd5-919a-1b93b8ccdd36",
   "metadata": {},
   "outputs": [],
   "source": [
    "df_todos_atletas = df_todos_atletas.dropna(subset=['Age']) #retira atletas sem informação de idade\n",
    "df_todos_atletas['Age'] = df_todos_atletas['Age'].astype(int)"
   ]
  },
  {
   "cell_type": "code",
   "execution_count": 279,
   "id": "fba77d3f-752d-44b9-9ff3-699c32ee1bda",
   "metadata": {},
   "outputs": [
    {
     "data": {
      "image/png": "[encoded data removed]",
      "text/plain": [
       "<Figure size 1000x600 with 1 Axes>"
      ]
     },
     "metadata": {},
     "output_type": "display_data"
    }
   ],
   "source": [
    "df_todos_atletas['Medalhas_numericas'].fillna(1, inplace=True) #vai substituir os Nan por 1\n",
    "\n",
    "\n",
    "plt.figure(figsize=(10, 6)) \n",
    "plt.scatter(df_todos_atletas['Age'], df_todos_atletas['Medalhas_numericas'], alpha=1.0)\n",
    "plt.xticks(ticks=range(0, df_todos_atletas['Age'].max(), 10))\n",
    "\n",
    "plt.xlabel('Idade dos Atletas') \n",
    "plt.ylabel('Medalhas')\n",
    "plt.title('Distribuição de Medalhas por Idade dos Atletas')\n",
    "plt.yticks(ticks=[1, 2, 3, 4], labels=['Nenhuma', 'Bronze', 'Prata', 'Ouro'])\n",
    "plt.grid(True)\n",
    "plt.show()\n"
   ]
  },
  {
   "cell_type": "code",
   "execution_count": 289,
   "id": "f14a699a-4290-485f-a365-556d5616e70a",
   "metadata": {},
   "outputs": [],
   "source": [
    "df_ordenado = df_todos_atletas.sort_values(by='Age', ascending=False)\n",
    "\n",
    "mais_velho = df_ordenado.iloc[1]\n",
    "penultimo_mais_velho = df_ordenado.iloc[0]"
   ]
  },
  {
   "cell_type": "markdown",
   "id": "d700a4f4-b268-4d5e-8003-f6d14f6ecfae",
   "metadata": {},
   "source": [
    "#### Os dois atletas \"mais velhos\". Ambos nem estavam vivos quando participaram, pois os dois morreram em 1910, mas suas obras concorreram na olimpiadas, no esporte de competição de artes, e acabaram por contabilizar as suas idades a partir de quantos anos eles teriam quando suas obras ganharam\n"
   ]
  },
  {
   "cell_type": "code",
   "execution_count": 291,
   "id": "577fe45f-e2d9-4cec-b9b1-2db9daa60969",
   "metadata": {},
   "outputs": [
    {
     "name": "stdout",
     "output_type": "stream",
     "text": [
      "Penúltimo mais velho:\n",
      "Entry ID                                                   257054\n",
      "Name                                       John Quincy Adams Ward\n",
      "Gender                                                       Male\n",
      "Age                                                            97\n",
      "Team                                                United States\n",
      "NOC                                                           USA\n",
      "Year                                                         1928\n",
      "Season                                                     Summer\n",
      "City                                                    Amsterdam\n",
      "Sport                                            Art Competitions\n",
      "Event                 Art Competitions Mixed Sculpturing, Statues\n",
      "Medal                                                         NaN\n",
      "Medalhas_numericas                                            1.0\n",
      "Name: 211066, dtype: object\n",
      "\n",
      "Mais velho:\n",
      "Entry ID                                                       98118\n",
      "Name                                                   Winslow Homer\n",
      "Gender                                                          Male\n",
      "Age                                                               96\n",
      "Team                                                   United States\n",
      "NOC                                                              USA\n",
      "Year                                                            1932\n",
      "Season                                                        Summer\n",
      "City                                                     Los Angeles\n",
      "Sport                                               Art Competitions\n",
      "Event                 Art Competitions Mixed Painting, Unknown Event\n",
      "Medal                                                            NaN\n",
      "Medalhas_numericas                                               1.0\n",
      "Name: 81200, dtype: object\n"
     ]
    }
   ],
   "source": [
    "print(\"Penúltimo mais velho:\")\n",
    "print(penultimo_mais_velho)\n",
    "print(\"\\nMais velho:\")\n",
    "print(mais_velho)"
   ]
  },
  {
   "cell_type": "code",
   "execution_count": 334,
   "id": "fc36eab6-d87a-46df-bde0-7138df945b85",
   "metadata": {},
   "outputs": [],
   "source": [
    "contagem_cidades_por_ano = df_todos_atletas.groupby(['City', 'Year']).size()\n",
    "contagem_cidades = contagem_cidades_por_ano.groupby('City').size()\n",
    "cores = np.random.rand(len(top_10_cidades), 3)\n"
   ]
  },
  {
   "cell_type": "code",
   "execution_count": 335,
   "id": "c8f5976a-bdbc-49aa-b7d4-c5b3b7c8a66c",
   "metadata": {},
   "outputs": [
    {
     "data": {
      "image/png": "[encoded data removed]",
      "text/plain": [
       "<Figure size 1000x600 with 1 Axes>"
      ]
     },
     "metadata": {},
     "output_type": "display_data"
    }
   ],
   "source": [
    "top_10_cidades = contagem_cidades.nlargest(10)\n",
    "plt.figure(figsize=(10, 6))\n",
    "top_10_cidades.plot(kind='bar', color=cores)\n",
    "plt.xlabel('Cidade')\n",
    "plt.ylabel('Número de Sedes Olímpicas')\n",
    "plt.title('Top 10 Cidades com Maior Número de Sedes Olímpicas')\n",
    "plt.xticks(rotation=45, ha='right')\n",
    "plt.tight_layout()\n",
    "plt.show()"
   ]
  },
  {
   "cell_type": "code",
   "execution_count": null,
   "id": "6a75258d-a884-42cb-b72e-c6935d658cb6",
   "metadata": {},
   "outputs": [],
   "source": []
  },
  {
   "cell_type": "code",
   "execution_count": null,
   "id": "019c8771-caae-4e2c-b83e-63a86abc3409",
   "metadata": {},
   "outputs": [],
   "source": []
  },
  {
   "cell_type": "code",
   "execution_count": 264,
   "id": "3f3ee102-e2ad-409d-a304-5923e8ed1462",
   "metadata": {},
   "outputs": [],
   "source": [
    "correlacao_idade_medalhas = df_todos_atletas['Age'].corr(df_todos_atletas['Medalhas_numericas'])\n"
   ]
  },
  {
   "cell_type": "code",
   "execution_count": 265,
   "id": "b8074275-79a9-4fdd-a451-c57c834162cf",
   "metadata": {},
   "outputs": [
    {
     "data": {
      "text/plain": [
       "0.02250109201202069"
      ]
     },
     "execution_count": 265,
     "metadata": {},
     "output_type": "execute_result"
    }
   ],
   "source": [
    "correlacao_idade_medalhas"
   ]
  },
  {
   "cell_type": "code",
   "execution_count": null,
   "id": "ac5db603-d688-4888-ba9e-a08ca166cbd6",
   "metadata": {},
   "outputs": [],
   "source": []
  }
 ],
 "metadata": {
  "kernelspec": {
   "display_name": "Python 3 (ipykernel)",
   "language": "python",
   "name": "python3"
  },
  "language_info": {
   "codemirror_mode": {
    "name": "ipython",
    "version": 3
   },
   "file_extension": ".py",
   "mimetype": "text/x-python",
   "name": "python",
   "nbconvert_exporter": "python",
   "pygments_lexer": "ipython3",
   "version": "3.11.5"
  }
 },
 "nbformat": 4,
 "nbformat_minor": 5
}
